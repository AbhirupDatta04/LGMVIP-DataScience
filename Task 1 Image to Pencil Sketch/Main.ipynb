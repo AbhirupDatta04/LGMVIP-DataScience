{
 "cells": [
  {
   "cell_type": "markdown",
   "id": "b7dd16e3",
   "metadata": {},
   "source": [
    "### Importing libraries"
   ]
  },
  {
   "cell_type": "code",
   "execution_count": 1,
   "id": "f61df4fd",
   "metadata": {},
   "outputs": [],
   "source": [
    "import cv2"
   ]
  },
  {
   "cell_type": "markdown",
   "id": "a5e5509e",
   "metadata": {},
   "source": [
    "### Reading the image "
   ]
  },
  {
   "cell_type": "code",
   "execution_count": 6,
   "id": "cab4a06a",
   "metadata": {},
   "outputs": [],
   "source": [
    "image = cv2.imread(\"Lionel-Messi.jpg\")"
   ]
  },
  {
   "cell_type": "markdown",
   "id": "d53242d4",
   "metadata": {},
   "source": [
    "### Converting to Gray scale"
   ]
  },
  {
   "cell_type": "code",
   "execution_count": 7,
   "id": "8b6bbbac",
   "metadata": {},
   "outputs": [],
   "source": [
    "gray= cv2.cvtColor(image, cv2.COLOR_BGR2GRAY)"
   ]
  },
  {
   "cell_type": "markdown",
   "id": "28b9490f",
   "metadata": {},
   "source": [
    "### Creating Inversion"
   ]
  },
  {
   "cell_type": "code",
   "execution_count": 8,
   "id": "0d7b89e6",
   "metadata": {},
   "outputs": [],
   "source": [
    "inverted= 255 - gray"
   ]
  },
  {
   "cell_type": "markdown",
   "id": "2afab86b",
   "metadata": {},
   "source": [
    "### Creation of blurred image using Gaussian Blur"
   ]
  },
  {
   "cell_type": "code",
   "execution_count": 9,
   "id": "529ebeb9",
   "metadata": {},
   "outputs": [],
   "source": [
    "blurred = cv2.GaussianBlur(inverted, (21, 21), 0)"
   ]
  },
  {
   "cell_type": "markdown",
   "id": "d814ecbd",
   "metadata": {},
   "source": [
    "### Inversion of Blurred Image"
   ]
  },
  {
   "cell_type": "code",
   "execution_count": 10,
   "id": "737b19ed",
   "metadata": {},
   "outputs": [
    {
     "data": {
      "text/plain": [
       "-1"
      ]
     },
     "execution_count": 10,
     "metadata": {},
     "output_type": "execute_result"
    }
   ],
   "source": [
    "invertblurred = 255 - blurred\n",
    "pencil = cv2.divide(gray, invertblurred, scale=256)\n",
    "cv2.imshow(\"Messi Sketch\", pencil)\n",
    "cv2.waitKey(0)"
   ]
  },
  {
   "cell_type": "code",
   "execution_count": null,
   "id": "cc3d1a3d",
   "metadata": {},
   "outputs": [],
   "source": []
  }
 ],
 "metadata": {
  "kernelspec": {
   "display_name": "Python 3",
   "language": "python",
   "name": "python3"
  },
  "language_info": {
   "codemirror_mode": {
    "name": "ipython",
    "version": 3
   },
   "file_extension": ".py",
   "mimetype": "text/x-python",
   "name": "python",
   "nbconvert_exporter": "python",
   "pygments_lexer": "ipython3",
   "version": "3.8.8"
  }
 },
 "nbformat": 4,
 "nbformat_minor": 5
}
